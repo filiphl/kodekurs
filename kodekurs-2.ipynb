{
 "cells": [
  {
   "cell_type": "markdown",
   "id": "sufficient-deployment",
   "metadata": {
    "_cell_guid": "b1076dfc-b9ad-4769-8c92-a6c4dae69d19",
    "_uuid": "8f2839f25d086af736a60e9eeb907d3b93b6e0e5",
    "papermill": {
     "duration": 0.016103,
     "end_time": "2021-04-11T20:16:18.193090",
     "exception": false,
     "start_time": "2021-04-11T20:16:18.176987",
     "status": "completed"
    },
    "tags": []
   },
   "source": [
    "# Kodekurs - 2\n",
    "\n",
    "Dette kurset inneholder 3 deler. \n",
    "\n",
    "- En oppgave som baserer seg på det du har lært tidligere\n",
    "- Introduksjon til listemetoden `append()` (Du kan tolke \"metode\" som funksjon for nå)\n",
    "- Introduksjon av sammenlignings operasjon (Nytt)\n",
    "- Introduksjon av `if` og `else` (Nytt)\n",
    "- Oppgave relatert til ny info"
   ]
  },
  {
   "cell_type": "markdown",
   "id": "incorporated-wrapping",
   "metadata": {
    "papermill": {
     "duration": 0.015388,
     "end_time": "2021-04-11T20:16:18.224038",
     "exception": false,
     "start_time": "2021-04-11T20:16:18.208650",
     "status": "completed"
    },
    "tags": []
   },
   "source": [
    "## Repetisjon fra kodekurs - 1\n",
    "I kodekurs 1 lærte du at det finnes flere typer i python.\n",
    "De vi gikk gjennom var\n",
    "- `str` (streng)\n",
    "- `int` (heltall)\n",
    "- `float` (desimaltall)\n",
    "- `bool` (True/False)\n",
    "- `list` (liste)\n",
    "En liste er en type som kan holder flere elementer. Elementene kan være hvilken som helst type. Til og med `list` (liste i en liste).\n",
    "\n",
    "Vi gikk gjennom at man kan referere til elementene i en liste med klammeparenteser rundt index til elementet. F.eks: "
   ]
  },
  {
   "cell_type": "code",
   "execution_count": 1,
   "id": "minimal-mistress",
   "metadata": {
    "execution": {
     "iopub.execute_input": "2021-04-11T20:16:18.262642Z",
     "iopub.status.busy": "2021-04-11T20:16:18.261703Z",
     "iopub.status.idle": "2021-04-11T20:16:18.268881Z",
     "shell.execute_reply": "2021-04-11T20:16:18.268138Z"
    },
    "papermill": {
     "duration": 0.029989,
     "end_time": "2021-04-11T20:16:18.269059",
     "exception": false,
     "start_time": "2021-04-11T20:16:18.239070",
     "status": "completed"
    },
    "tags": []
   },
   "outputs": [
    {
     "name": "stdout",
     "output_type": "stream",
     "text": [
      "Niccy\n",
      "Armel\n",
      "Filipa\n"
     ]
    }
   ],
   "source": [
    "names = [\"Niccy\", \"Armel\", \"Hilde\", \"Flora\", \"Filip\", \"Gloria\", \"Marina\", \"Caleb\", \"Filipa\"]\n",
    "print(names[0])\n",
    "print(names[1])\n",
    "print(names[-1])"
   ]
  },
  {
   "cell_type": "markdown",
   "id": "extraordinary-printer",
   "metadata": {
    "papermill": {
     "duration": 0.01551,
     "end_time": "2021-04-11T20:16:18.303798",
     "exception": false,
     "start_time": "2021-04-11T20:16:18.288288",
     "status": "completed"
    },
    "tags": []
   },
   "source": [
    "Merk at index `-1` viser til det siste elementet i listen.\n",
    "Dette navnet var skrevet feil. La oss endre verdien så det blir rett."
   ]
  },
  {
   "cell_type": "code",
   "execution_count": 2,
   "id": "prospective-gates",
   "metadata": {
    "execution": {
     "iopub.execute_input": "2021-04-11T20:16:18.343091Z",
     "iopub.status.busy": "2021-04-11T20:16:18.342135Z",
     "iopub.status.idle": "2021-04-11T20:16:18.349354Z",
     "shell.execute_reply": "2021-04-11T20:16:18.348698Z"
    },
    "papermill": {
     "duration": 0.029486,
     "end_time": "2021-04-11T20:16:18.349500",
     "exception": false,
     "start_time": "2021-04-11T20:16:18.320014",
     "status": "completed"
    },
    "tags": []
   },
   "outputs": [
    {
     "name": "stdout",
     "output_type": "stream",
     "text": [
      "Filippa\n"
     ]
    }
   ],
   "source": [
    "names[-1] = \"Filippa\"\n",
    "print(names[-1])"
   ]
  },
  {
   "cell_type": "markdown",
   "id": "following-pointer",
   "metadata": {
    "papermill": {
     "duration": 0.017019,
     "end_time": "2021-04-11T20:16:18.382986",
     "exception": false,
     "start_time": "2021-04-11T20:16:18.365967",
     "status": "completed"
    },
    "tags": []
   },
   "source": [
    "Vi gikk også gjennom `for` loops, som gjør at man kan iterere gjennom elementer i en iterable (blant annet lister)."
   ]
  },
  {
   "cell_type": "code",
   "execution_count": 3,
   "id": "chinese-clock",
   "metadata": {
    "execution": {
     "iopub.execute_input": "2021-04-11T20:16:18.422520Z",
     "iopub.status.busy": "2021-04-11T20:16:18.421033Z",
     "iopub.status.idle": "2021-04-11T20:16:18.430494Z",
     "shell.execute_reply": "2021-04-11T20:16:18.431034Z"
    },
    "papermill": {
     "duration": 0.031952,
     "end_time": "2021-04-11T20:16:18.431250",
     "exception": false,
     "start_time": "2021-04-11T20:16:18.399298",
     "status": "completed"
    },
    "tags": []
   },
   "outputs": [
    {
     "name": "stdout",
     "output_type": "stream",
     "text": [
      "Current index:  1\n",
      "Current index:  2\n",
      "Current index:  3\n",
      "Current index:  4\n",
      "Current index:  5\n"
     ]
    }
   ],
   "source": [
    "for i in [1,2,3,4,5]:\n",
    "    print(\"Current index: \", i)"
   ]
  },
  {
   "cell_type": "markdown",
   "id": "relative-width",
   "metadata": {
    "papermill": {
     "duration": 0.016355,
     "end_time": "2021-04-11T20:16:18.464421",
     "exception": false,
     "start_time": "2021-04-11T20:16:18.448066",
     "status": "completed"
    },
    "tags": []
   },
   "source": [
    "Strenger er også iterable, så man kan også gjøre:"
   ]
  },
  {
   "cell_type": "code",
   "execution_count": 4,
   "id": "determined-software",
   "metadata": {
    "execution": {
     "iopub.execute_input": "2021-04-11T20:16:18.504471Z",
     "iopub.status.busy": "2021-04-11T20:16:18.503767Z",
     "iopub.status.idle": "2021-04-11T20:16:18.509375Z",
     "shell.execute_reply": "2021-04-11T20:16:18.509872Z"
    },
    "papermill": {
     "duration": 0.0295,
     "end_time": "2021-04-11T20:16:18.510503",
     "exception": false,
     "start_time": "2021-04-11T20:16:18.481003",
     "status": "completed"
    },
    "tags": []
   },
   "outputs": [
    {
     "name": "stdout",
     "output_type": "stream",
     "text": [
      "N\n",
      "i\n",
      "c\n",
      "c\n",
      "y\n"
     ]
    }
   ],
   "source": [
    "for i in names[0]:\n",
    "    print(i)"
   ]
  },
  {
   "cell_type": "markdown",
   "id": "alternative-allah",
   "metadata": {
    "papermill": {
     "duration": 0.016842,
     "end_time": "2021-04-11T20:16:18.544999",
     "exception": false,
     "start_time": "2021-04-11T20:16:18.528157",
     "status": "completed"
    },
    "tags": []
   },
   "source": [
    "### Repetisjonsoppgave\n",
    "Lag en `for` loop som printer `Jeg elsker <navn>` for hvert navn i listen `names`."
   ]
  },
  {
   "cell_type": "code",
   "execution_count": null,
   "id": "measured-schedule",
   "metadata": {
    "papermill": {
     "duration": 0.017169,
     "end_time": "2021-04-11T20:16:18.580077",
     "exception": false,
     "start_time": "2021-04-11T20:16:18.562908",
     "status": "completed"
    },
    "tags": []
   },
   "outputs": [],
   "source": []
  },
  {
   "cell_type": "markdown",
   "id": "immediate-sister",
   "metadata": {
    "papermill": {
     "duration": 0.016714,
     "end_time": "2021-04-11T20:16:18.614498",
     "exception": false,
     "start_time": "2021-04-11T20:16:18.597784",
     "status": "completed"
    },
    "tags": []
   },
   "source": [
    "## Introduksjon til listemetoden `append()`\n",
    "Variabler av typen `list` har en innebygget metode (funksjon) som heter `append`.\n",
    "Den gjør at vi kan legge til element på slutten av en liste.\n",
    "Den brukes sånn her:"
   ]
  },
  {
   "cell_type": "code",
   "execution_count": 5,
   "id": "controlled-buying",
   "metadata": {
    "execution": {
     "iopub.execute_input": "2021-04-11T20:16:18.656791Z",
     "iopub.status.busy": "2021-04-11T20:16:18.655053Z",
     "iopub.status.idle": "2021-04-11T20:16:18.661540Z",
     "shell.execute_reply": "2021-04-11T20:16:18.659744Z"
    },
    "papermill": {
     "duration": 0.030161,
     "end_time": "2021-04-11T20:16:18.661796",
     "exception": false,
     "start_time": "2021-04-11T20:16:18.631635",
     "status": "completed"
    },
    "tags": []
   },
   "outputs": [
    {
     "name": "stdout",
     "output_type": "stream",
     "text": [
      "['Niccy', 'Armel', 'Hilde', 'Flora', 'Filip', 'Gloria', 'Marina', 'Caleb', 'Filippa']\n",
      "['Niccy', 'Armel', 'Hilde', 'Flora', 'Filip', 'Gloria', 'Marina', 'Caleb', 'Filippa', 'Esekiel']\n"
     ]
    }
   ],
   "source": [
    "print(names)\n",
    "names.append(\"Esekiel\")\n",
    "print(names)"
   ]
  },
  {
   "cell_type": "markdown",
   "id": "immediate-renewal",
   "metadata": {
    "papermill": {
     "duration": 0.018985,
     "end_time": "2021-04-11T20:16:18.709711",
     "exception": false,
     "start_time": "2021-04-11T20:16:18.690726",
     "status": "completed"
    },
    "tags": []
   },
   "source": [
    "Hva tror du skjer om du kjører cellen over en gang til? \n",
    "\n",
    "Prøv!"
   ]
  },
  {
   "cell_type": "markdown",
   "id": "hungry-search",
   "metadata": {
    "papermill": {
     "duration": 0.017088,
     "end_time": "2021-04-11T20:16:18.744929",
     "exception": false,
     "start_time": "2021-04-11T20:16:18.727841",
     "status": "completed"
    },
    "tags": []
   },
   "source": [
    "## Introduksjon av sammenlignings operasjon\n",
    "Med operasjon mener man som regel en matematisk operasjon.\n",
    "De mest grunnleggende operasjonene er \n",
    "- `+` (addisjon) \n",
    "- `-` (subtraksjon)\n",
    "- `*` (mulitplikasjon)\n",
    "- `/` (divisjon)\n",
    "- `<` (mindre enn)\n",
    "- `>` (større enn)\n",
    "- `==` (likhet)\n",
    "\n",
    "Vi skal nå se på likhetsoperatoren, som sjekker om to variabler er like (`==`)\n",
    "\n",
    "I mange tilfeller er det nyttig å sjekke verdien til en variabel.\n",
    "F.eks. i et fotballspill, vil man sjekke om ballen er bak målstreken, mellom stengene og under tverliggeren. Det blir i tilfellet mål. \n",
    "Man sjekker om to variabler `a` og `b` er like som dette:\n"
   ]
  },
  {
   "cell_type": "code",
   "execution_count": 6,
   "id": "latest-certification",
   "metadata": {
    "execution": {
     "iopub.execute_input": "2021-04-11T20:16:18.791463Z",
     "iopub.status.busy": "2021-04-11T20:16:18.790709Z",
     "iopub.status.idle": "2021-04-11T20:16:18.797117Z",
     "shell.execute_reply": "2021-04-11T20:16:18.795700Z"
    },
    "papermill": {
     "duration": 0.03393,
     "end_time": "2021-04-11T20:16:18.797452",
     "exception": false,
     "start_time": "2021-04-11T20:16:18.763522",
     "status": "completed"
    },
    "tags": []
   },
   "outputs": [
    {
     "name": "stdout",
     "output_type": "stream",
     "text": [
      "True\n",
      "<class 'bool'>\n",
      "4\n",
      "False\n"
     ]
    }
   ],
   "source": [
    "a = 3\n",
    "b = 3\n",
    "print(a==b)\n",
    "print(type(a==b))\n",
    "\n",
    "a = a+1\n",
    "print(a)\n",
    "print(a==b)"
   ]
  },
  {
   "cell_type": "markdown",
   "id": "polar-bulgarian",
   "metadata": {
    "papermill": {
     "duration": 0.017554,
     "end_time": "2021-04-11T20:16:18.834920",
     "exception": false,
     "start_time": "2021-04-11T20:16:18.817366",
     "status": "completed"
    },
    "tags": []
   },
   "source": [
    "For strenger skilles det på store og små bokstaver"
   ]
  },
  {
   "cell_type": "code",
   "execution_count": 7,
   "id": "original-ending",
   "metadata": {
    "execution": {
     "iopub.execute_input": "2021-04-11T20:16:18.878762Z",
     "iopub.status.busy": "2021-04-11T20:16:18.877905Z",
     "iopub.status.idle": "2021-04-11T20:16:18.884576Z",
     "shell.execute_reply": "2021-04-11T20:16:18.883862Z"
    },
    "papermill": {
     "duration": 0.031394,
     "end_time": "2021-04-11T20:16:18.884724",
     "exception": false,
     "start_time": "2021-04-11T20:16:18.853330",
     "status": "completed"
    },
    "tags": []
   },
   "outputs": [
    {
     "name": "stdout",
     "output_type": "stream",
     "text": [
      "False\n",
      "True\n"
     ]
    }
   ],
   "source": [
    "a = \"niccy\"\n",
    "b = \"Niccy\"\n",
    "c = \"niccy\"\n",
    "print(a==b)\n",
    "print(a==c)"
   ]
  },
  {
   "cell_type": "markdown",
   "id": "greek-offset",
   "metadata": {
    "papermill": {
     "duration": 0.018421,
     "end_time": "2021-04-11T20:16:18.921953",
     "exception": false,
     "start_time": "2021-04-11T20:16:18.903532",
     "status": "completed"
    },
    "tags": []
   },
   "source": [
    "## Introduksjon til `if` og `else`\n",
    "Veldig ofte er hvilken koden som skal kjøre avhengig av betingelser.\n",
    "Dette koder vi med `if <betingelsen>:`, etterfulgt av koden som skal gjøre dersom betingelsen er oppfylt.\n",
    "Koden som er betinget må ha en indentering (marg) fra `if` operatoren."
   ]
  },
  {
   "cell_type": "code",
   "execution_count": 8,
   "id": "efficient-rogers",
   "metadata": {
    "execution": {
     "iopub.execute_input": "2021-04-11T20:16:18.966587Z",
     "iopub.status.busy": "2021-04-11T20:16:18.965919Z",
     "iopub.status.idle": "2021-04-11T20:16:18.971805Z",
     "shell.execute_reply": "2021-04-11T20:16:18.972356Z"
    },
    "papermill": {
     "duration": 0.031455,
     "end_time": "2021-04-11T20:16:18.972558",
     "exception": false,
     "start_time": "2021-04-11T20:16:18.941103",
     "status": "completed"
    },
    "tags": []
   },
   "outputs": [
    {
     "name": "stdout",
     "output_type": "stream",
     "text": [
      "Number of names: 10\n",
      "There are less than 12 names\n"
     ]
    }
   ],
   "source": [
    "number_of_names = len(names)\n",
    "print(\"Number of names:\", number_of_names)\n",
    "\n",
    "if number_of_names < 12:\n",
    "    print(\"There are less than 12 names\")"
   ]
  },
  {
   "cell_type": "markdown",
   "id": "searching-manchester",
   "metadata": {
    "papermill": {
     "duration": 0.019954,
     "end_time": "2021-04-11T20:16:19.012465",
     "exception": false,
     "start_time": "2021-04-11T20:16:18.992511",
     "status": "completed"
    },
    "tags": []
   },
   "source": [
    "Man trenger ofte en annen kodesnutt til å kjøre dersom betingelsen ikke er oppfylt.\n",
    "Dette gjør vi med `else`.\n",
    "\n",
    "`else` må stå i samme indentering som `if`, og koden relatert til `else` må være indentert fra `else`."
   ]
  },
  {
   "cell_type": "code",
   "execution_count": 9,
   "id": "monthly-gasoline",
   "metadata": {
    "execution": {
     "iopub.execute_input": "2021-04-11T20:16:19.059390Z",
     "iopub.status.busy": "2021-04-11T20:16:19.058696Z",
     "iopub.status.idle": "2021-04-11T20:16:19.067018Z",
     "shell.execute_reply": "2021-04-11T20:16:19.066350Z"
    },
    "papermill": {
     "duration": 0.034906,
     "end_time": "2021-04-11T20:16:19.067165",
     "exception": false,
     "start_time": "2021-04-11T20:16:19.032259",
     "status": "completed"
    },
    "tags": []
   },
   "outputs": [
    {
     "name": "stdout",
     "output_type": "stream",
     "text": [
      "Number of names: 10\n",
      "There are 8 or more names\n"
     ]
    }
   ],
   "source": [
    "number_of_names = len(names)\n",
    "print(\"Number of names:\", number_of_names)\n",
    "\n",
    "if number_of_names < 8:\n",
    "    conclusion = \"There are less than 8 names\"\n",
    "else:\n",
    "    conclusion = \"There are 8 or more names\"\n",
    "\n",
    "print(conclusion)"
   ]
  },
  {
   "cell_type": "markdown",
   "id": "typical-meeting",
   "metadata": {
    "papermill": {
     "duration": 0.019192,
     "end_time": "2021-04-11T20:16:19.106166",
     "exception": false,
     "start_time": "2021-04-11T20:16:19.086974",
     "status": "completed"
    },
    "tags": []
   },
   "source": [
    "## Oppgave\n",
    "I denne oppgaven skal du telle hvor mange ganger en bokstav finnes i navnene i listen med navn. \n",
    "F.eks. forekommer bokstaven \"n\" to ganger: én i \"Niccy\" og én i \"Marina\".\n",
    "Under er en beskrivelse av hvordan du skal løse oppgaven.\n",
    "- Definer en variabel `character` med bokstaven du ønsker å sjekke som verdi. F.eks. `\"a\"`.\n",
    "- Definer en variabel `occurances` med verdi `0`.\n",
    "- Lag en `for` loop som itererer gjennom listen med navn.\n",
    "- For hvert navn, lag en `for` loop som iterer gjennom bokstavene i navnet\n",
    "- Bruk en `if` for å sjekke om bokstaven er lik den bokstaven du teller\n",
    "- Dersom den er lik, øk verdien til `n` med `1`.\n",
    "\n",
    "Skriv koden i cellen under.\n",
    "\n",
    "Print resultatet til slutt."
   ]
  },
  {
   "cell_type": "code",
   "execution_count": null,
   "id": "impossible-detection",
   "metadata": {
    "papermill": {
     "duration": 0.020477,
     "end_time": "2021-04-11T20:16:19.146818",
     "exception": false,
     "start_time": "2021-04-11T20:16:19.126341",
     "status": "completed"
    },
    "tags": []
   },
   "outputs": [],
   "source": []
  }
 ],
 "metadata": {
  "kernelspec": {
   "display_name": "Python 3",
   "language": "python",
   "name": "python3"
  },
  "language_info": {
   "codemirror_mode": {
    "name": "ipython",
    "version": 3
   },
   "file_extension": ".py",
   "mimetype": "text/x-python",
   "name": "python",
   "nbconvert_exporter": "python",
   "pygments_lexer": "ipython3",
   "version": "3.7.9"
  },
  "papermill": {
   "default_parameters": {},
   "duration": 10.844046,
   "end_time": "2021-04-11T20:16:19.782253",
   "environment_variables": {},
   "exception": null,
   "input_path": "__notebook__.ipynb",
   "output_path": "__notebook__.ipynb",
   "parameters": {},
   "start_time": "2021-04-11T20:16:08.938207",
   "version": "2.3.2"
  }
 },
 "nbformat": 4,
 "nbformat_minor": 5
}
